{
 "cells": [
  {
   "cell_type": "markdown",
   "metadata": {},
   "source": [
    "**NOTE:**\n",
    "\n",
    "I.  resn 后面加 残基名称 如 IAUM LYS NA CL\n",
    "\n",
    "II. resi 后面加 残基编号"
   ]
  },
  {
   "cell_type": "markdown",
   "metadata": {},
   "source": [
    "*按Enter键时，光标要在句末，否则断成两句*"
   ]
  },
  {
   "cell_type": "markdown",
   "metadata": {},
   "source": [
    "**1. pymol如何隐藏所有离子？**"
   ]
  },
  {
   "cell_type": "markdown",
   "metadata": {},
   "source": [
    "在PyMOL中，可以使用以下命令来隐藏所有离子：\n",
    "\n",
    "```python\n",
    "hide everything, resn NA+ or resn CL- or resn K+ or resn CA2+ or resn MG2+\n",
    "```\n",
    "\n",
    "- 这条命令会隐藏常见的离子类型，如钠离子（`NA+`）、氯离子（`CL-`）、钾离子（`K+`）、钙离子（`CA2+`）和镁离子（`MG2+`）。 \n",
    "- 如果有其他类型的离子，只需在命令中添加它们的残基名称，例如 `or resn ZN2+`。\n",
    "\n",
    "如果您想隐藏**所有**离子，不管是什么类型，可以使用以下更通用的命令：\n",
    "\n",
    "```python\n",
    "hide everything, (resn NA+ or resn CL- or elem MG or elem K or elem CA or elem ZN or elem FE)\n",
    "```\n",
    "\n",
    "或使用更灵活的命令，通过**元素类型**过滤：\n",
    "\n",
    "```python\n",
    "hide everything, (elem MG or elem K or elem CA or elem CL or elem NA or elem ZN or elem FE)\n",
    "```\n",
    "\n",
    "这会隐藏所有的镁（`MG`）、钾（`K`）、钙（`CA`）、氯（`CL`）、钠（`NA`）、锌（`ZN`）、铁（`FE`）等元素类型的原子。"
   ]
  },
  {
   "cell_type": "markdown",
   "metadata": {},
   "source": [
    "事实证明，\n",
    "还是\n",
    "\n",
    "```python\n",
    "hide everything, resn NA\n",
    "hide everything, resn CL\n",
    "```\n",
    "\n",
    "针对我的体系好使"
   ]
  },
  {
   "cell_type": "markdown",
   "metadata": {},
   "source": [
    "**2. 选中5 埃以内原子**"
   ]
  },
  {
   "cell_type": "markdown",
   "metadata": {},
   "source": [
    "在PyMOL中，您可以使用以下命令来选择距离某个原子或分子 **5埃** 范围内的所有原子：\n",
    "\n",
    "```python\n",
    "select close_atoms, (byres all within 5 of your_selection)\n",
    "```\n",
    "\n",
    "- `your_selection` 替换为您感兴趣的原子或分子的选择名称（如一个残基编号或链）。\n",
    "- `close_atoms` 是自定义的选择名称，您可以随意更改。\n",
    "\n",
    "例如，如果您想选择距离蛋白质第50号残基 **5埃** 范围内的所有原子，可以用：\n",
    "\n",
    "```python\n",
    "select close_atoms, (byres all within 5 of resi 50)\n",
    "```\n",
    "\n",
    "这种方式会确保选择的是**整个残基**，即使残基的一部分超出5埃范围。"
   ]
  },
  {
   "cell_type": "markdown",
   "metadata": {},
   "source": [
    "**3. pymol选中5 埃以内原子，除了IAUM原子，sol水，na，cl**"
   ]
  },
  {
   "cell_type": "markdown",
   "metadata": {},
   "source": [
    "在PyMOL中，您可以使用以下命令来选择距离5埃以内的原子，排除指定的 `IAUM`、水分子 (`SOL`)、钠 (`NA`)、和氯 (`CL`) 原子：\n",
    "\n",
    "```python\n",
    "select nearby_atoms, (br. all within 5 of (your_selection)) and not (resn IAUM+SOL+NA+CL)\n",
    "```\n",
    "\n",
    "解释：\n",
    "- `br. all within 5 of (your_selection)`：选择距 `your_selection` 5埃以内的所有原子。\n",
    "- `not (resn IAUM+SOL+NA+CL)`：排除 `IAUM`、`SOL` (水)、`NA` 和 `CL`。"
   ]
  }
 ],
 "metadata": {
  "language_info": {
   "name": "python"
  }
 },
 "nbformat": 4,
 "nbformat_minor": 2
}
