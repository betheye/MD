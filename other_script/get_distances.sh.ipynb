{
 "cells": [
  {
   "cell_type": "markdown",
   "metadata": {},
   "source": [
    "Here's your script with line-by-line comments to help you understand each part:\n",
    "\n",
    "```bash\n",
    "#!/bin/bash\n",
    "\n",
    "#################################################\n",
    "# get_distances.sh\n",
    "#\n",
    "#   Script iteratively calls gmx distance and\n",
    "#   assembles a series of COM distance values\n",
    "#   indexed by frame number, for use in\n",
    "#   preparing umbrella sampling windows.\n",
    "#\n",
    "# Written by: Justin A. Lemkul, Ph.D.\n",
    "#    Contact: jalemkul@vt.edu\n",
    "#\n",
    "#################################################\n",
    "\n",
    "# Extract frames from the trajectory file (pull.xtc) and save them as separate .gro files\n",
    "# Using -sep option means each frame will be output as a separate file\n",
    "echo 0 | gmx trjconv -s pull.tpr -f pull.xtc -o conf.gro -sep\n",
    "\n",
    "# Loop over 501 frames (assumes 500 frames total, adjust if necessary)\n",
    "for (( i=0; i<501; i++ ))\n",
    "do\n",
    "    # For each frame, calculate the COM (Center of Mass) distance between Chain_A and Chain_B\n",
    "    # Results are saved in individual .xvg files (dist${i}.xvg)\n",
    "    gmx distance -s pull.tpr -f conf${i}.gro -n index.ndx -select 'com of group \"Chain_A\" plus com of group \"Chain_B\"' -oall dist${i}.xvg \n",
    "done\n",
    "\n",
    "# Create or overwrite a summary file to store distances from all frames\n",
    "touch summary_distances.dat\n",
    "for (( i=0; i<501; i++ ))\n",
    "do\n",
    "    # Extract the last line of each distance file to get the distance value for each frame\n",
    "    d=`tail -n 1 dist${i}.xvg | awk '{print $2}'`\n",
    "    # Append the frame number and its corresponding distance to the summary file\n",
    "    echo \"${i} ${d}\" >> summary_distances.dat\n",
    "    # Remove the individual distance file after processing to save space\n",
    "    rm dist${i}.xvg\n",
    "done\n",
    "\n",
    "# Exit the script\n",
    "exit;\n",
    "```\n",
    "\n",
    "### Key Points:\n",
    "- The script first extracts frames from the trajectory file using `gmx trjconv`.\n",
    "- Then, it calculates the distance between the centers of mass of two groups for each frame using `gmx distance`.\n",
    "- Finally, it compiles the distances into a summary file and cleans up temporary files."
   ]
  },
  {
   "cell_type": "code",
   "execution_count": null,
   "metadata": {},
   "outputs": [],
   "source": []
  }
 ],
 "metadata": {
  "language_info": {
   "name": "python"
  }
 },
 "nbformat": 4,
 "nbformat_minor": 2
}
